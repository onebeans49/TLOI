{
 "cells": [
  {
   "cell_type": "markdown",
   "metadata": {},
   "source": [
    "# 데이터 로드"
   ]
  },
  {
   "cell_type": "code",
   "execution_count": 1,
   "metadata": {},
   "outputs": [
    {
     "name": "stdout",
     "output_type": "stream",
     "text": [
      "                            샤프트바코드  OP20판정  OP20전장하한  OP20전장상한   OP20전장  \\\n",
      "0  A021N566RA 259213 S6562A 231221       1    -125.0     125.0  114.943   \n",
      "1  A021N566RA 259213 S6615A 231221       1    -125.0     125.0  114.840   \n",
      "2  A021N566RA 259213 S6605A 231221       1    -125.0     125.0  114.635   \n",
      "3  A021N566RA 259213 S6603A 231221       1    -125.0     125.0  115.148   \n",
      "4  A021N566RA 259213 S6602A 231221       1    -125.0     125.0  114.943   \n",
      "\n",
      "   OP20거리하한  OP20거리상한  OP20거리  OP20캡간하한  OP20캡간상한  ...  OP40STTA1CCW최소  \\\n",
      "0     -0.15      0.15  -0.049      38.4      39.0  ...           0.030   \n",
      "1     -0.15      0.15  -0.024      38.4      39.0  ...           0.059   \n",
      "2     -0.15      0.15  -0.032      38.4      39.0  ...           0.070   \n",
      "3     -0.15      0.15  -0.022      38.4      39.0  ...           0.049   \n",
      "4     -0.15      0.15  -0.043      38.4      39.0  ...           0.031   \n",
      "\n",
      "   OP40STTA1CCW최대  OP40STTA2합부  OP40STTA2CW최소  OP40STTA2CW최대  OP40STTA2CCW최소  \\\n",
      "0           0.040            1          0.068          0.088           0.047   \n",
      "1           0.090            1          0.048          0.077           0.037   \n",
      "2           0.100            1          0.058          0.102           0.047   \n",
      "3           0.059            1          0.048          0.068           0.027   \n",
      "4           0.050            1          0.048          0.078           0.047   \n",
      "\n",
      "   OP40STTA2CCW최대  OP40S씰검사합부  OP40S탭검사합부  OP40S전류최대  \n",
      "0           0.077           1           1      0.606  \n",
      "1           0.057           1           1      0.601  \n",
      "2           0.067           1           1      0.599  \n",
      "3           0.047           1           1      0.595  \n",
      "4           0.067           1           1      0.592  \n",
      "\n",
      "[5 rows x 106 columns]\n",
      "------------\n",
      "(200284, 106)\n"
     ]
    }
   ],
   "source": [
    "import pandas as pd\n",
    "import numpy as np\n",
    "\n",
    "\n",
    "df = pd.read_csv('df_2040.csv', encoding='UTF-8')\n",
    "\n",
    "\n",
    "print(df.head())\n",
    "print('------------')\n",
    "print(df.shape)"
   ]
  },
  {
   "cell_type": "code",
   "execution_count": 2,
   "metadata": {},
   "outputs": [
    {
     "data": {
      "text/html": [
       "<div>\n",
       "<style scoped>\n",
       "    .dataframe tbody tr th:only-of-type {\n",
       "        vertical-align: middle;\n",
       "    }\n",
       "\n",
       "    .dataframe tbody tr th {\n",
       "        vertical-align: top;\n",
       "    }\n",
       "\n",
       "    .dataframe thead th {\n",
       "        text-align: right;\n",
       "    }\n",
       "</style>\n",
       "<table border=\"1\" class=\"dataframe\">\n",
       "  <thead>\n",
       "    <tr style=\"text-align: right;\">\n",
       "      <th></th>\n",
       "      <th>OP20전장</th>\n",
       "      <th>OP20거리</th>\n",
       "      <th>OP20캡간</th>\n",
       "      <th>OP20좌1차피크</th>\n",
       "      <th>OP20좌완료거리</th>\n",
       "      <th>OP20우1차피크</th>\n",
       "      <th>OP20우완료거리</th>\n",
       "      <th>OP30전장</th>\n",
       "      <th>OP30거리</th>\n",
       "      <th>OP30캡간</th>\n",
       "      <th>...</th>\n",
       "      <th>OP40SC요크깊이편차</th>\n",
       "      <th>OP40STTA1CW최소</th>\n",
       "      <th>OP40STTA1CW최대</th>\n",
       "      <th>OP40STTA1CCW최소</th>\n",
       "      <th>OP40STTA1CCW최대</th>\n",
       "      <th>OP40STTA2CW최소</th>\n",
       "      <th>OP40STTA2CW최대</th>\n",
       "      <th>OP40STTA2CCW최소</th>\n",
       "      <th>OP40STTA2CCW최대</th>\n",
       "      <th>OP40S전류최대</th>\n",
       "    </tr>\n",
       "  </thead>\n",
       "  <tbody>\n",
       "    <tr>\n",
       "      <th>0</th>\n",
       "      <td>114.943</td>\n",
       "      <td>-0.049</td>\n",
       "      <td>38.858</td>\n",
       "      <td>376.184</td>\n",
       "      <td>10.35</td>\n",
       "      <td>400.346</td>\n",
       "      <td>10.26</td>\n",
       "      <td>124.007</td>\n",
       "      <td>0.026</td>\n",
       "      <td>38.586</td>\n",
       "      <td>...</td>\n",
       "      <td>0.137</td>\n",
       "      <td>0.036</td>\n",
       "      <td>0.066</td>\n",
       "      <td>0.030</td>\n",
       "      <td>0.040</td>\n",
       "      <td>0.068</td>\n",
       "      <td>0.088</td>\n",
       "      <td>0.047</td>\n",
       "      <td>0.077</td>\n",
       "      <td>0.606</td>\n",
       "    </tr>\n",
       "    <tr>\n",
       "      <th>1</th>\n",
       "      <td>114.840</td>\n",
       "      <td>-0.024</td>\n",
       "      <td>38.858</td>\n",
       "      <td>347.386</td>\n",
       "      <td>10.35</td>\n",
       "      <td>406.066</td>\n",
       "      <td>10.26</td>\n",
       "      <td>124.007</td>\n",
       "      <td>0.019</td>\n",
       "      <td>38.586</td>\n",
       "      <td>...</td>\n",
       "      <td>0.088</td>\n",
       "      <td>0.045</td>\n",
       "      <td>0.105</td>\n",
       "      <td>0.059</td>\n",
       "      <td>0.090</td>\n",
       "      <td>0.048</td>\n",
       "      <td>0.077</td>\n",
       "      <td>0.037</td>\n",
       "      <td>0.057</td>\n",
       "      <td>0.601</td>\n",
       "    </tr>\n",
       "    <tr>\n",
       "      <th>2</th>\n",
       "      <td>114.635</td>\n",
       "      <td>-0.032</td>\n",
       "      <td>38.858</td>\n",
       "      <td>400.149</td>\n",
       "      <td>10.35</td>\n",
       "      <td>438.908</td>\n",
       "      <td>10.26</td>\n",
       "      <td>124.007</td>\n",
       "      <td>0.018</td>\n",
       "      <td>38.586</td>\n",
       "      <td>...</td>\n",
       "      <td>0.200</td>\n",
       "      <td>0.045</td>\n",
       "      <td>0.095</td>\n",
       "      <td>0.070</td>\n",
       "      <td>0.100</td>\n",
       "      <td>0.058</td>\n",
       "      <td>0.102</td>\n",
       "      <td>0.047</td>\n",
       "      <td>0.067</td>\n",
       "      <td>0.599</td>\n",
       "    </tr>\n",
       "    <tr>\n",
       "      <th>3</th>\n",
       "      <td>115.148</td>\n",
       "      <td>-0.022</td>\n",
       "      <td>38.858</td>\n",
       "      <td>399.360</td>\n",
       "      <td>10.35</td>\n",
       "      <td>372.633</td>\n",
       "      <td>10.26</td>\n",
       "      <td>124.106</td>\n",
       "      <td>0.019</td>\n",
       "      <td>38.586</td>\n",
       "      <td>...</td>\n",
       "      <td>0.166</td>\n",
       "      <td>0.053</td>\n",
       "      <td>0.076</td>\n",
       "      <td>0.049</td>\n",
       "      <td>0.059</td>\n",
       "      <td>0.048</td>\n",
       "      <td>0.068</td>\n",
       "      <td>0.027</td>\n",
       "      <td>0.047</td>\n",
       "      <td>0.595</td>\n",
       "    </tr>\n",
       "    <tr>\n",
       "      <th>4</th>\n",
       "      <td>114.943</td>\n",
       "      <td>-0.043</td>\n",
       "      <td>38.858</td>\n",
       "      <td>359.221</td>\n",
       "      <td>10.35</td>\n",
       "      <td>364.941</td>\n",
       "      <td>10.26</td>\n",
       "      <td>124.007</td>\n",
       "      <td>0.019</td>\n",
       "      <td>38.586</td>\n",
       "      <td>...</td>\n",
       "      <td>0.012</td>\n",
       "      <td>0.036</td>\n",
       "      <td>0.086</td>\n",
       "      <td>0.031</td>\n",
       "      <td>0.050</td>\n",
       "      <td>0.048</td>\n",
       "      <td>0.078</td>\n",
       "      <td>0.047</td>\n",
       "      <td>0.067</td>\n",
       "      <td>0.592</td>\n",
       "    </tr>\n",
       "    <tr>\n",
       "      <th>...</th>\n",
       "      <td>...</td>\n",
       "      <td>...</td>\n",
       "      <td>...</td>\n",
       "      <td>...</td>\n",
       "      <td>...</td>\n",
       "      <td>...</td>\n",
       "      <td>...</td>\n",
       "      <td>...</td>\n",
       "      <td>...</td>\n",
       "      <td>...</td>\n",
       "      <td>...</td>\n",
       "      <td>...</td>\n",
       "      <td>...</td>\n",
       "      <td>...</td>\n",
       "      <td>...</td>\n",
       "      <td>...</td>\n",
       "      <td>...</td>\n",
       "      <td>...</td>\n",
       "      <td>...</td>\n",
       "      <td>...</td>\n",
       "      <td>...</td>\n",
       "    </tr>\n",
       "    <tr>\n",
       "      <th>200279</th>\n",
       "      <td>117.611</td>\n",
       "      <td>-0.050</td>\n",
       "      <td>38.778</td>\n",
       "      <td>390.484</td>\n",
       "      <td>10.35</td>\n",
       "      <td>322.237</td>\n",
       "      <td>10.26</td>\n",
       "      <td>124.106</td>\n",
       "      <td>0.004</td>\n",
       "      <td>38.500</td>\n",
       "      <td>...</td>\n",
       "      <td>0.011</td>\n",
       "      <td>0.057</td>\n",
       "      <td>0.091</td>\n",
       "      <td>0.067</td>\n",
       "      <td>0.088</td>\n",
       "      <td>0.003</td>\n",
       "      <td>0.047</td>\n",
       "      <td>0.007</td>\n",
       "      <td>0.037</td>\n",
       "      <td>0.549</td>\n",
       "    </tr>\n",
       "    <tr>\n",
       "      <th>200280</th>\n",
       "      <td>117.098</td>\n",
       "      <td>-0.050</td>\n",
       "      <td>38.778</td>\n",
       "      <td>377.367</td>\n",
       "      <td>10.35</td>\n",
       "      <td>351.232</td>\n",
       "      <td>10.26</td>\n",
       "      <td>124.106</td>\n",
       "      <td>0.017</td>\n",
       "      <td>38.500</td>\n",
       "      <td>...</td>\n",
       "      <td>0.002</td>\n",
       "      <td>0.032</td>\n",
       "      <td>0.098</td>\n",
       "      <td>0.088</td>\n",
       "      <td>0.098</td>\n",
       "      <td>0.003</td>\n",
       "      <td>0.039</td>\n",
       "      <td>0.007</td>\n",
       "      <td>0.027</td>\n",
       "      <td>0.551</td>\n",
       "    </tr>\n",
       "    <tr>\n",
       "      <th>200281</th>\n",
       "      <td>116.892</td>\n",
       "      <td>-0.050</td>\n",
       "      <td>38.778</td>\n",
       "      <td>378.156</td>\n",
       "      <td>10.35</td>\n",
       "      <td>358.037</td>\n",
       "      <td>10.26</td>\n",
       "      <td>124.106</td>\n",
       "      <td>0.023</td>\n",
       "      <td>38.500</td>\n",
       "      <td>...</td>\n",
       "      <td>0.138</td>\n",
       "      <td>0.038</td>\n",
       "      <td>0.118</td>\n",
       "      <td>0.077</td>\n",
       "      <td>0.108</td>\n",
       "      <td>0.003</td>\n",
       "      <td>0.039</td>\n",
       "      <td>0.007</td>\n",
       "      <td>0.037</td>\n",
       "      <td>0.550</td>\n",
       "    </tr>\n",
       "    <tr>\n",
       "      <th>200282</th>\n",
       "      <td>117.200</td>\n",
       "      <td>-0.050</td>\n",
       "      <td>38.778</td>\n",
       "      <td>418.789</td>\n",
       "      <td>10.35</td>\n",
       "      <td>369.675</td>\n",
       "      <td>10.26</td>\n",
       "      <td>124.106</td>\n",
       "      <td>0.018</td>\n",
       "      <td>38.500</td>\n",
       "      <td>...</td>\n",
       "      <td>0.052</td>\n",
       "      <td>0.068</td>\n",
       "      <td>0.168</td>\n",
       "      <td>0.118</td>\n",
       "      <td>0.138</td>\n",
       "      <td>0.030</td>\n",
       "      <td>0.039</td>\n",
       "      <td>0.030</td>\n",
       "      <td>0.037</td>\n",
       "      <td>0.550</td>\n",
       "    </tr>\n",
       "    <tr>\n",
       "      <th>200283</th>\n",
       "      <td>117.098</td>\n",
       "      <td>-0.050</td>\n",
       "      <td>38.778</td>\n",
       "      <td>364.152</td>\n",
       "      <td>10.35</td>\n",
       "      <td>389.202</td>\n",
       "      <td>10.26</td>\n",
       "      <td>124.106</td>\n",
       "      <td>0.001</td>\n",
       "      <td>38.500</td>\n",
       "      <td>...</td>\n",
       "      <td>0.023</td>\n",
       "      <td>0.128</td>\n",
       "      <td>0.158</td>\n",
       "      <td>0.121</td>\n",
       "      <td>0.148</td>\n",
       "      <td>0.003</td>\n",
       "      <td>0.072</td>\n",
       "      <td>0.029</td>\n",
       "      <td>0.037</td>\n",
       "      <td>0.549</td>\n",
       "    </tr>\n",
       "  </tbody>\n",
       "</table>\n",
       "<p>200284 rows × 45 columns</p>\n",
       "</div>"
      ],
      "text/plain": [
       "         OP20전장  OP20거리  OP20캡간  OP20좌1차피크  OP20좌완료거리  OP20우1차피크  OP20우완료거리  \\\n",
       "0       114.943  -0.049  38.858    376.184      10.35    400.346      10.26   \n",
       "1       114.840  -0.024  38.858    347.386      10.35    406.066      10.26   \n",
       "2       114.635  -0.032  38.858    400.149      10.35    438.908      10.26   \n",
       "3       115.148  -0.022  38.858    399.360      10.35    372.633      10.26   \n",
       "4       114.943  -0.043  38.858    359.221      10.35    364.941      10.26   \n",
       "...         ...     ...     ...        ...        ...        ...        ...   \n",
       "200279  117.611  -0.050  38.778    390.484      10.35    322.237      10.26   \n",
       "200280  117.098  -0.050  38.778    377.367      10.35    351.232      10.26   \n",
       "200281  116.892  -0.050  38.778    378.156      10.35    358.037      10.26   \n",
       "200282  117.200  -0.050  38.778    418.789      10.35    369.675      10.26   \n",
       "200283  117.098  -0.050  38.778    364.152      10.35    389.202      10.26   \n",
       "\n",
       "         OP30전장  OP30거리  OP30캡간  ...  OP40SC요크깊이편차  OP40STTA1CW최소  \\\n",
       "0       124.007   0.026  38.586  ...         0.137          0.036   \n",
       "1       124.007   0.019  38.586  ...         0.088          0.045   \n",
       "2       124.007   0.018  38.586  ...         0.200          0.045   \n",
       "3       124.106   0.019  38.586  ...         0.166          0.053   \n",
       "4       124.007   0.019  38.586  ...         0.012          0.036   \n",
       "...         ...     ...     ...  ...           ...            ...   \n",
       "200279  124.106   0.004  38.500  ...         0.011          0.057   \n",
       "200280  124.106   0.017  38.500  ...         0.002          0.032   \n",
       "200281  124.106   0.023  38.500  ...         0.138          0.038   \n",
       "200282  124.106   0.018  38.500  ...         0.052          0.068   \n",
       "200283  124.106   0.001  38.500  ...         0.023          0.128   \n",
       "\n",
       "        OP40STTA1CW최대  OP40STTA1CCW최소  OP40STTA1CCW최대  OP40STTA2CW최소  \\\n",
       "0               0.066           0.030           0.040          0.068   \n",
       "1               0.105           0.059           0.090          0.048   \n",
       "2               0.095           0.070           0.100          0.058   \n",
       "3               0.076           0.049           0.059          0.048   \n",
       "4               0.086           0.031           0.050          0.048   \n",
       "...               ...             ...             ...            ...   \n",
       "200279          0.091           0.067           0.088          0.003   \n",
       "200280          0.098           0.088           0.098          0.003   \n",
       "200281          0.118           0.077           0.108          0.003   \n",
       "200282          0.168           0.118           0.138          0.030   \n",
       "200283          0.158           0.121           0.148          0.003   \n",
       "\n",
       "        OP40STTA2CW최대  OP40STTA2CCW최소  OP40STTA2CCW최대  OP40S전류최대  \n",
       "0               0.088           0.047           0.077      0.606  \n",
       "1               0.077           0.037           0.057      0.601  \n",
       "2               0.102           0.047           0.067      0.599  \n",
       "3               0.068           0.027           0.047      0.595  \n",
       "4               0.078           0.047           0.067      0.592  \n",
       "...               ...             ...             ...        ...  \n",
       "200279          0.047           0.007           0.037      0.549  \n",
       "200280          0.039           0.007           0.027      0.551  \n",
       "200281          0.039           0.007           0.037      0.550  \n",
       "200282          0.039           0.030           0.037      0.550  \n",
       "200283          0.072           0.029           0.037      0.549  \n",
       "\n",
       "[200284 rows x 45 columns]"
      ]
     },
     "execution_count": 2,
     "metadata": {},
     "output_type": "execute_result"
    }
   ],
   "source": [
    "#필요한 칼럼 정리\n",
    "\n",
    "df2 = df[['OP20전장','OP20거리','OP20캡간','OP20좌1차피크','OP20좌완료거리','OP20우1차피크',\n",
    "          'OP20우완료거리','OP30전장','OP30거리','OP30캡간','OP30좌1차피크','OP30좌완료거리','OP30우1차피크',\n",
    "          'OP30우완료거리','OP40S베어링거리','OP40S베어링쏠림량','OP40S스태킹깊이최소','OP40S스태킹깊이최대',\n",
    "          'OP40S스태킹가로폭최소','OP40S스태킹가로폭최대','OP40S스태킹세로폭최소','OP40S스태킹세로폭최대','OP40S스태킹형상최소',\n",
    "          'OP40S스태킹형상최대','OP40SB베어링거리','OP40SB베어링쏠림량','OP40SB스태킹깊이최소','OP40SB스태킹깊이최대',\n",
    "          'OP40SB스태킹가로폭최소','OP40SB스태킹가로폭최대','OP40SB스태킹세로폭최소','OP40SB스태킹세로폭최대','OP40SB스태킹형상최소',\n",
    "          'OP40SB스태킹형상최대','OP40S요크깊이편차','OP40SC요크깊이편차','OP40STTA1CW최소','OP40STTA1CW최대','OP40STTA1CCW최소',\n",
    "          'OP40STTA1CCW최대','OP40STTA2CW최소','OP40STTA2CW최대','OP40STTA2CCW최소','OP40STTA2CCW최대','OP40S전류최대']]\n",
    "\n",
    "df2"
   ]
  },
  {
   "cell_type": "code",
   "execution_count": 3,
   "metadata": {},
   "outputs": [
    {
     "name": "stdout",
     "output_type": "stream",
     "text": [
      "    OP20전장  OP20거리  OP20캡간  OP20좌1차피크  OP20좌완료거리  OP20우1차피크  OP20우완료거리  \\\n",
      "0  114.943  -0.049  38.858    376.184      10.35    400.346      10.26   \n",
      "1  114.840  -0.024  38.858    347.386      10.35    406.066      10.26   \n",
      "2  114.635  -0.032  38.858    400.149      10.35    438.908      10.26   \n",
      "3  115.148  -0.022  38.858    399.360      10.35    372.633      10.26   \n",
      "4  114.943  -0.043  38.858    359.221      10.35    364.941      10.26   \n",
      "\n",
      "    OP30전장  OP30거리  OP30캡간  ...  OP40SC요크깊이편차  OP40STTA1CW최소  OP40STTA1CW최대  \\\n",
      "0  124.007   0.026  38.586  ...         0.137          0.036          0.066   \n",
      "1  124.007   0.019  38.586  ...         0.088          0.045          0.105   \n",
      "2  124.007   0.018  38.586  ...         0.200          0.045          0.095   \n",
      "3  124.106   0.019  38.586  ...         0.166          0.053          0.076   \n",
      "4  124.007   0.019  38.586  ...         0.012          0.036          0.086   \n",
      "\n",
      "   OP40STTA1CCW최소  OP40STTA1CCW최대  OP40STTA2CW최소  OP40STTA2CW최대  \\\n",
      "0           0.030           0.040          0.068          0.088   \n",
      "1           0.059           0.090          0.048          0.077   \n",
      "2           0.070           0.100          0.058          0.102   \n",
      "3           0.049           0.059          0.048          0.068   \n",
      "4           0.031           0.050          0.048          0.078   \n",
      "\n",
      "   OP40STTA2CCW최소  OP40STTA2CCW최대  OP40S전류최대  \n",
      "0           0.047           0.077      0.606  \n",
      "1           0.037           0.057      0.601  \n",
      "2           0.047           0.067      0.599  \n",
      "3           0.027           0.047      0.595  \n",
      "4           0.047           0.067      0.592  \n",
      "\n",
      "[5 rows x 45 columns]\n",
      "------------\n",
      "(200284, 45)\n"
     ]
    }
   ],
   "source": [
    "#데이터 확인\n",
    "\n",
    "print(df2.head())\n",
    "print('------------')\n",
    "print(df2.shape)"
   ]
  },
  {
   "cell_type": "markdown",
   "metadata": {},
   "source": [
    "# 독립 및 종속 변수 정의"
   ]
  },
  {
   "cell_type": "code",
   "execution_count": 4,
   "metadata": {},
   "outputs": [
    {
     "name": "stdout",
     "output_type": "stream",
     "text": [
      "(200284, 14)\n",
      "(200284, 31)\n"
     ]
    }
   ],
   "source": [
    "\n",
    "x = df2.iloc[:, :14]\n",
    "y = df2.iloc[:, 14:45]\n",
    "\n",
    "\n",
    "print(x.shape)\n",
    "print(y.shape)"
   ]
  },
  {
   "cell_type": "code",
   "execution_count": 17,
   "metadata": {},
   "outputs": [],
   "source": [
    "#Module\n",
    "\n",
    "from sklearn.linear_model import LinearRegression\n",
    "from sklearn.linear_model import Ridge, Lasso, ElasticNet\n",
    "from sklearn.preprocessing import StandardScaler\n",
    "from sklearn.model_selection import train_test_split, GridSearchCV, cross_val_score\n",
    "from sklearn.metrics import mean_absolute_percentage_error\n",
    "from sklearn.neural_network import MLPRegressor\n",
    "from sklearn.metrics import mean_absolute_error, mean_squared_error"
   ]
  },
  {
   "cell_type": "code",
   "execution_count": 6,
   "metadata": {},
   "outputs": [],
   "source": [
    "x_train, x_test, y_train, y_test = train_test_split(x, y, test_size=0.2, random_state=42)"
   ]
  },
  {
   "cell_type": "code",
   "execution_count": 7,
   "metadata": {},
   "outputs": [],
   "source": [
    "# 데이터 스케일링\n",
    "x_scaler = StandardScaler()\n",
    "x_train_scaled = x_scaler.fit_transform(x_train)\n",
    "x_test_scaled = x_scaler.transform(x_test)\n",
    "\n",
    "y_scaler = StandardScaler()\n",
    "y_train_scaled = y_scaler.fit_transform(y_train)\n",
    "y_test_scaled = y_scaler.transform(y_test)"
   ]
  },
  {
   "cell_type": "markdown",
   "metadata": {},
   "source": [
    "# Modeling"
   ]
  },
  {
   "cell_type": "code",
   "execution_count": 23,
   "metadata": {},
   "outputs": [
    {
     "name": "stdout",
     "output_type": "stream",
     "text": [
      "Mean Squared Error: 0.8310626124734867\n"
     ]
    }
   ],
   "source": [
    "# 회귀 모델 학습\n",
    "lin = LinearRegression()\n",
    "lin.fit(x_train_scaled, y_train_scaled)\n",
    "\n",
    "# 예측\n",
    "lin_pred = lin.predict(x_test_scaled)\n",
    "\n",
    "# 성능 평가\n",
    "lin_mse = mean_squared_error(y_test_scaled, lin_pred)\n",
    "print(f'Mean Squared Error: {lin_mse}')"
   ]
  },
  {
   "cell_type": "code",
   "execution_count": 24,
   "metadata": {},
   "outputs": [
    {
     "name": "stdout",
     "output_type": "stream",
     "text": [
      "Ridge Regression Mean Squared Error: 0.831071569561022\n"
     ]
    }
   ],
   "source": [
    "# Ridge 회귀 모델\n",
    "ridge_model = Ridge()\n",
    "ridge_model.fit(x_train_scaled, y_train_scaled)\n",
    "ridge_pred = ridge_model.predict(x_test_scaled)\n",
    "\n",
    "ridge_mse = mean_squared_error(y_test_scaled, ridge_pred)\n",
    "print(f'Ridge Regression Mean Squared Error: {ridge_mse}')"
   ]
  },
  {
   "cell_type": "code",
   "execution_count": 25,
   "metadata": {},
   "outputs": [
    {
     "name": "stdout",
     "output_type": "stream",
     "text": [
      "Lasso Regression Mean Squared Error: 0.9722601154611806\n"
     ]
    }
   ],
   "source": [
    "# Lasso 회귀 모델\n",
    "lasso_model = Lasso()\n",
    "lasso_model.fit(x_train_scaled, y_train_scaled)\n",
    "lasso_pred = lasso_model.predict(x_test_scaled)\n",
    "\n",
    "lasso_mse = mean_squared_error(y_test_scaled, lasso_pred)\n",
    "print(f'Lasso Regression Mean Squared Error: {lasso_mse}')"
   ]
  },
  {
   "cell_type": "code",
   "execution_count": 26,
   "metadata": {},
   "outputs": [
    {
     "name": "stdout",
     "output_type": "stream",
     "text": [
      "ElasticNet Regression Mean Squared Error: 0.9722601154611806\n"
     ]
    }
   ],
   "source": [
    "# ElasticNet 회귀 모델\n",
    "elasticnet_model = ElasticNet()\n",
    "elasticnet_model.fit(x_train_scaled, y_train_scaled)\n",
    "elasticnet_pred = elasticnet_model.predict(x_test_scaled)\n",
    "\n",
    "elasticnet_mse = mean_squared_error(y_test_scaled, elasticnet_pred)\n",
    "print(f'ElasticNet Regression Mean Squared Error: {elasticnet_mse}')"
   ]
  },
  {
   "cell_type": "code",
   "execution_count": 18,
   "metadata": {},
   "outputs": [
    {
     "name": "stdout",
     "output_type": "stream",
     "text": [
      "MLP Mean Squared Error: 0.6698580870877758\n"
     ]
    }
   ],
   "source": [
    "# MLP\n",
    "mlp_reg = MLPRegressor(hidden_layer_sizes=(50, 50), activation='tanh', solver='adam', \n",
    "                                              learning_rate='constant',max_iter=1000, random_state=42) \n",
    "mlp_reg.fit(x_train_scaled, y_train_scaled)\n",
    "mlp_model = mlp_reg\n",
    "mlp_pred = mlp_model.predict(x_test_scaled)\n",
    "    \n",
    "\n",
    "mlp_mse = mean_squared_error(y_test_scaled, mlp_pred)\n",
    "print(f'MLP Mean Squared Error: {mlp_mse}')"
   ]
  },
  {
   "cell_type": "code",
   "execution_count": 40,
   "metadata": {},
   "outputs": [
    {
     "name": "stdout",
     "output_type": "stream",
     "text": [
      "Fitting 3 folds for each of 48 candidates, totalling 144 fits\n"
     ]
    },
    {
     "name": "stderr",
     "output_type": "stream",
     "text": [
      "C:\\Users\\onebe\\AppData\\Local\\Continuum\\anaconda3\\lib\\site-packages\\sklearn\\model_selection\\_search.py:972: UserWarning: One or more of the test scores are non-finite: [ -2.87233765  -2.61979104  -2.86812654  -2.61979104  -2.65297513\n",
      "  -2.75476028  -2.6399592   -2.75476028  -2.88373828  -2.72231411\n",
      "  -2.91781974  -2.72231411  -2.64965462  -2.65927264  -2.63424438\n",
      "  -2.65927264  -2.72741052  -2.65423459  -2.64076462  -2.65423459\n",
      "  -2.71759807  -2.64534028  -2.73045868  -2.64534028  -2.88162671\n",
      " -18.35150837  -2.87801947 -18.35150837          nan  -9.28812771\n",
      "          nan  -9.28812771          nan -31.54474201          nan\n",
      " -31.54474201  -3.36531034 -15.43959767  -3.39617892 -15.43959767\n",
      "          nan -13.31791861          nan -13.31791861          nan\n",
      "  -8.54573532          nan  -8.54573532]\n",
      "  category=UserWarning,\n"
     ]
    },
    {
     "name": "stdout",
     "output_type": "stream",
     "text": [
      "Best parameters found: {'activation': 'tanh', 'alpha': 0.0001, 'hidden_layer_sizes': (50, 50), 'learning_rate': 'constant', 'solver': 'adam'}\n",
      "Best MSE: -2.6197910392106363\n"
     ]
    }
   ],
   "source": [
    "# MLP 하이퍼파라미터 그리드 설정\n",
    "param_grid = {\n",
    "    'hidden_layer_sizes': [(50, 50), (100, 100), (100, 100, 100)],\n",
    "    'activation': ['tanh', 'relu'],\n",
    "    'solver': ['sgd', 'adam'],\n",
    "    'alpha': [0.0001, 0.05],\n",
    "    'learning_rate': ['constant', 'adaptive'],\n",
    "}\n",
    "\n",
    "# MLP 모델 초기화\n",
    "mlp = MLPRegressor(max_iter=1000, random_state=42)\n",
    "\n",
    "# GridSearchCV 초기화\n",
    "grid_search = GridSearchCV(estimator=mlp, param_grid=param_grid, scoring='neg_mean_squared_error', cv=3, n_jobs=-1, verbose=2)\n",
    "\n",
    "# 그리드 서치 실행\n",
    "grid_search.fit(x_train, y_train)\n",
    "\n",
    "# 최적의 하이퍼파라미터와 점수 출력\n",
    "print(f\"Best parameters found: {grid_search.best_params_}\")\n",
    "print(f\"Best MSE: {grid_search.best_score_}\")\n"
   ]
  },
  {
   "cell_type": "markdown",
   "metadata": {},
   "source": [
    "# 지표 확인"
   ]
  },
  {
   "cell_type": "code",
   "execution_count": 27,
   "metadata": {},
   "outputs": [],
   "source": [
    "# 예측값 역스케일링\n",
    "lin_pred_unscaled = y_scaler.inverse_transform(lin_pred)\n",
    "ridge_pred_unscaled = y_scaler.inverse_transform(ridge_pred)\n",
    "lasso_pred_unscaled = y_scaler.inverse_transform(lasso_pred)\n",
    "elasticnet_pred_unscaled = y_scaler.inverse_transform(elasticnet_pred)\n",
    "mlp_pred_unscaled = y_scaler.inverse_transform(mlp_pred)\n",
    "y_test_unscaled = y_scaler.inverse_transform(y_test)"
   ]
  },
  {
   "cell_type": "code",
   "execution_count": 49,
   "metadata": {},
   "outputs": [
    {
     "name": "stdout",
     "output_type": "stream",
     "text": [
      "Predictions saved to predictions_unscaled.csv\n"
     ]
    }
   ],
   "source": [
    "# 역스케일한 예측 값을 DataFrame으로 변환\n",
    "predictions_df = pd.DataFrame({\n",
    "    'Linear': lin_pred_unscaled.flatten(),\n",
    "    'Ridge': ridge_pred_unscaled.flatten(),\n",
    "    'Lasso': lasso_pred_unscaled.flatten(),\n",
    "    'ElasticNet': elasticnet_pred_unscaled.flatten(),\n",
    "    'MLP': mlp_pred_unscaled.flatten(),\n",
    "    '실제 값': y_test_unscaled.flatten()\n",
    "})\n",
    "\n",
    "# 예측 값을 CSV 파일로 저장\n",
    "predictions_df.to_csv('predictions_unscaled.csv', index=False)\n",
    "print(\"Predictions saved to predictions_unscaled.csv\")"
   ]
  },
  {
   "cell_type": "code",
   "execution_count": 50,
   "metadata": {},
   "outputs": [],
   "source": [
    "# MSE 게산\n",
    "\n",
    "lin_mse = mean_squared_error(y_test_scaled, lin_pred)\n",
    "ridge_mse = mean_squared_error(y_test_scaled, ridge_pred)\n",
    "lasso_mse = mean_squared_error(y_test_scaled, lasso_pred)\n",
    "elasticnet_mse = mean_squared_error(y_test_scaled, elasticnet_pred)\n",
    "mlp_mse = mean_squared_error(y_test_scaled, mlp_pred)"
   ]
  },
  {
   "cell_type": "code",
   "execution_count": 51,
   "metadata": {},
   "outputs": [
    {
     "name": "stdout",
     "output_type": "stream",
     "text": [
      "Linear Mean Squared Error: 0.8310626124734867\n",
      "Ridge Regression Mean Squared Error: 0.831071569561022\n",
      "Lasso Regression Mean Squared Error: 0.9722601154611806\n",
      "ElasticNet Regression Mean Squared Error: 0.9722601154611806\n",
      "MLP Mean Squared Error: 0.6698580870877758\n"
     ]
    }
   ],
   "source": [
    "print(f'Linear Mean Squared Error: {lin_mse}')\n",
    "print(f'Ridge Regression Mean Squared Error: {ridge_mse}')\n",
    "print(f'Lasso Regression Mean Squared Error: {lasso_mse}')\n",
    "print(f'ElasticNet Regression Mean Squared Error: {elasticnet_mse}')\n",
    "print(f'MLP Mean Squared Error: {mlp_mse}')"
   ]
  },
  {
   "cell_type": "code",
   "execution_count": 52,
   "metadata": {},
   "outputs": [],
   "source": [
    "# MAE 계산\n",
    "\n",
    "lin_mae = mean_absolute_error(y_test_unscaled, lin_pred_unscaled)\n",
    "ridge_mae = mean_absolute_error(y_test_unscaled, ridge_pred_unscaled)\n",
    "lasso_mae = mean_absolute_error(y_test_unscaled, lasso_pred_unscaled)\n",
    "elasticnet_mae = mean_absolute_error(y_test_unscaled, elasticnet_pred_unscaled)\n",
    "mlp_mae = mean_absolute_error(y_test_unscaled, mlp_pred_unscaled)"
   ]
  },
  {
   "cell_type": "code",
   "execution_count": 53,
   "metadata": {},
   "outputs": [
    {
     "name": "stdout",
     "output_type": "stream",
     "text": [
      "Linear Mean absolute Error: 0.8310626124734867\n",
      "Ridge Regression Mean absolute Error: 0.831071569561022\n",
      "Lasso Regression Mean absolute Error: 0.9722601154611806\n",
      "ElasticNet Regression Mean absolute Error: 0.9722601154611806\n",
      "MLP Mean absolute Error: 0.6698580870877758\n"
     ]
    }
   ],
   "source": [
    "print(f'Linear Mean absolute Error: {lin_mse}')\n",
    "print(f'Ridge Regression Mean absolute Error: {ridge_mse}')\n",
    "print(f'Lasso Regression Mean absolute Error: {lasso_mse}')\n",
    "print(f'ElasticNet Regression Mean absolute Error: {elasticnet_mse}')\n",
    "print(f'MLP Mean absolute Error: {mlp_mse}')"
   ]
  },
  {
   "cell_type": "code",
   "execution_count": 54,
   "metadata": {},
   "outputs": [],
   "source": [
    "#RMSE 계산\n",
    "\n",
    "lin_rmse = np.sqrt(mean_squared_error(y_test_unscaled, lin_pred_unscaled))\n",
    "ridge_rmse = np.sqrt(mean_squared_error(y_test_unscaled, ridge_pred_unscaled))\n",
    "lasso_rmse = np.sqrt(mean_squared_error(y_test_unscaled, lasso_pred_unscaled))\n",
    "elasticnet_rmse = np.sqrt(mean_squared_error(y_test_unscaled, elasticnet_pred_unscaled))\n",
    "mlp_rmse = np.sqrt(mean_squared_error(y_test_unscaled, mlp_pred_unscaled))"
   ]
  },
  {
   "cell_type": "code",
   "execution_count": 55,
   "metadata": {},
   "outputs": [
    {
     "name": "stdout",
     "output_type": "stream",
     "text": [
      "Linear Root Mean Squared Error: 155.26681605558616\n",
      "Ridge Regression Root Mean Squared Error: 155.26681279301835\n",
      "Lasso Regression Root Mean Squared Error: 155.26932491197056\n",
      "ElasticNet Regression Root Mean Squared Error: 155.26932491197056\n",
      "MLP Root Mean Squared Error: 155.23048750567008\n"
     ]
    }
   ],
   "source": [
    "print(f'Linear Root Mean Squared Error: {lin_rmse}')\n",
    "print(f'Ridge Regression Root Mean Squared Error: {ridge_rmse}')\n",
    "print(f'Lasso Regression Root Mean Squared Error: {lasso_rmse}')\n",
    "print(f'ElasticNet Regression Root Mean Squared Error: {elasticnet_rmse}')\n",
    "print(f'MLP Root Mean Squared Error: {mlp_rmse}')"
   ]
  },
  {
   "cell_type": "code",
   "execution_count": 56,
   "metadata": {
    "scrolled": true
   },
   "outputs": [
    {
     "name": "stdout",
     "output_type": "stream",
     "text": [
      "Linear\n",
      "MSE: 0.8310626124734867, MAE: 57.39598251414059, RMSE: 155.26681605558616\n",
      "\n",
      "Ridge\n",
      "MSE: 0.831071569561022, MAE: 57.39597142852124, RMSE: 155.26681279301835\n",
      "\n",
      "Lasso\n",
      "MSE: 0.9722601154611806, MAE: 57.3880488392229, RMSE: 155.26932491197056\n",
      "\n",
      "ElasticNet\n",
      "MSE: 0.9722601154611806, MAE: 57.3880488392229, RMSE: 155.26932491197056\n",
      "\n",
      "MLP\n",
      "MSE: 0.6698580870877758, MAE: 57.3904763598955, RMSE: 155.23048750567008\n"
     ]
    }
   ],
   "source": [
    "# 결과 정리\n",
    "\n",
    "print('Linear')\n",
    "print(f'MSE: {lin_mse}, MAE: {lin_mae}, RMSE: {lin_rmse}')\n",
    "print()\n",
    "print('Ridge')\n",
    "print(f'MSE: {ridge_mse}, MAE: {ridge_mae}, RMSE: {ridge_rmse}')\n",
    "print()\n",
    "print('Lasso')\n",
    "print(f'MSE: {lasso_mse}, MAE: {lasso_mae}, RMSE: {lasso_rmse}')\n",
    "print()\n",
    "print('ElasticNet')\n",
    "print(f'MSE: {elasticnet_mse}, MAE: {elasticnet_mae}, RMSE: {elasticnet_rmse}')\n",
    "print()\n",
    "print('MLP')\n",
    "print(f'MSE: {mlp_mse}, MAE: {mlp_mae}, RMSE: {mlp_rmse}')"
   ]
  },
  {
   "cell_type": "code",
   "execution_count": 79,
   "metadata": {},
   "outputs": [
    {
     "name": "stdout",
     "output_type": "stream",
     "text": [
      "MLP CV MSE: 1.1215947377624444\n",
      "MLP CV MAE: 0.6686855814527405\n"
     ]
    }
   ],
   "source": [
    "# K-fold 교차 검증 수행 (예: K=5)\n",
    "cv_scores_mse = cross_val_score(mlp_reg, x_scaled, y_scaled, cv=5, scoring='neg_mean_squared_error')\n",
    "cv_mse = -cv_scores_mse.mean()\n",
    "\n",
    "cv_scores_mae = cross_val_score(mlp_reg, x_scaled, y_scaled, cv=5, scoring='neg_mean_absolute_error')\n",
    "cv_mae = -cv_scores_mae.mean()\n",
    "\n",
    "\n",
    "# 결과 출력\n",
    "print(f'MLP CV MSE: {cv_mse}')\n",
    "print(f'MLP CV MAE: {cv_mae}')"
   ]
  },
  {
   "cell_type": "markdown",
   "metadata": {},
   "source": [
    "# 모델 및 스케일러 저장"
   ]
  },
  {
   "cell_type": "code",
   "execution_count": 16,
   "metadata": {},
   "outputs": [
    {
     "name": "stdout",
     "output_type": "stream",
     "text": [
      "[[ 3.88533317e+01  9.67249346e-03  2.94094004e-01 ...  4.57361963e-02\n",
      "   5.77645146e-02  5.57821598e-01]\n",
      " [ 3.88724315e+01  6.88718582e-02  2.79291824e-01 ...  3.11127315e-02\n",
      "   4.25762946e-02  5.55183326e-01]\n",
      " [ 3.86841794e+01 -3.47547230e-02  2.98384416e-01 ...  3.54342645e-02\n",
      "   5.02555592e-02  5.52777020e-01]\n",
      " ...\n",
      " [ 3.87385493e+01 -8.47679441e-02  3.49038388e-01 ...  2.49725215e-02\n",
      "   4.26611446e-02  5.50870908e-01]\n",
      " [ 3.87247213e+01  4.81769964e-02  2.49238812e-01 ...  5.70489524e-02\n",
      "   7.52511267e-02  5.58095463e-01]\n",
      " [ 3.87423969e+01  8.14018223e-02  2.39344949e-01 ...  4.42587751e-02\n",
      "   5.98143795e-02  5.66070395e-01]]\n"
     ]
    }
   ],
   "source": [
    "import joblib\n",
    "from sklearn.pipeline import Pipeline\n",
    "from sklearn.compose import TransformedTargetRegressor\n",
    "\n",
    "# 스케일러와 모델을 함께 저장\n",
    "joblib.dump((x_scaler, y_scaler, mlp_reg), 'mlp_model_with_scalers.joblib')\n",
    "\n",
    "# 모델 불러오기\n",
    "loaded_x_scaler, loaded_y_scaler, loaded_model = joblib.load('mlp_model_with_scalers.joblib')\n",
    "\n",
    "# 불러온 모델로 예측\n",
    "x_test_new = loaded_x_scaler.transform(x_test)\n",
    "predictions_scaled = loaded_model.predict(x_test_new)\n",
    "predictions = loaded_y_scaler.inverse_transform(predictions_scaled)\n",
    "\n",
    "print(predictions)"
   ]
  },
  {
   "cell_type": "code",
   "execution_count": 68,
   "metadata": {},
   "outputs": [
    {
     "data": {
      "text/plain": [
       "57.3904763598955"
      ]
     },
     "execution_count": 68,
     "metadata": {},
     "output_type": "execute_result"
    }
   ],
   "source": [
    "loaded_mae = mean_absolute_error(y_test_unscaled, predictions)\n",
    "loaded_mae"
   ]
  },
  {
   "cell_type": "code",
   "execution_count": 69,
   "metadata": {},
   "outputs": [
    {
     "data": {
      "text/plain": [
       "0.6698580870877758"
      ]
     },
     "execution_count": 69,
     "metadata": {},
     "output_type": "execute_result"
    }
   ],
   "source": [
    "loaded_mse = mean_squared_error(y_test_scaled, mlp_pred)\n",
    "loaded_mse"
   ]
  },
  {
   "cell_type": "code",
   "execution_count": null,
   "metadata": {},
   "outputs": [],
   "source": []
  }
 ],
 "metadata": {
  "kernelspec": {
   "display_name": "Python 3 (ipykernel)",
   "language": "python",
   "name": "python3"
  },
  "language_info": {
   "codemirror_mode": {
    "name": "ipython",
    "version": 3
   },
   "file_extension": ".py",
   "mimetype": "text/x-python",
   "name": "python",
   "nbconvert_exporter": "python",
   "pygments_lexer": "ipython3",
   "version": "3.11.7"
  }
 },
 "nbformat": 4,
 "nbformat_minor": 4
}
